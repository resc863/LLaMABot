{
 "cells": [
  {
   "cell_type": "code",
   "execution_count": null,
   "metadata": {},
   "outputs": [
    {
     "name": "stderr",
     "output_type": "stream",
     "text": [
      "C:\\Users\\resc8\\AppData\\Local\\Packages\\PythonSoftwareFoundation.Python.3.11_qbz5n2kfra8p0\\LocalCache\\local-packages\\Python311\\site-packages\\tqdm\\auto.py:21: TqdmWarning: IProgress not found. Please update jupyter and ipywidgets. See https://ipywidgets.readthedocs.io/en/stable/user_install.html\n",
      "  from .autonotebook import tqdm as notebook_tqdm\n"
     ]
    }
   ],
   "source": [
    "import torch\n",
    "import transformers\n",
    "import bitsandbytes\n",
    "from transformers import AutoModelForCausalLM, AutoTokenizer, BitsAndBytesConfig, pipeline"
   ]
  },
  {
   "cell_type": "markdown",
   "metadata": {},
   "source": [
    "# LLaMa채팅 파이프라인"
   ]
  },
  {
   "cell_type": "code",
   "execution_count": null,
   "metadata": {},
   "outputs": [],
   "source": [
    "quantization_config = BitsAndBytesConfig(load_in_8bit=True)  # You can also try load_in_4bit\n",
    "pipe = pipeline(\"text-generation\", \"model/llama3\", device_map=\"auto\", model_kwargs={\"quantization_config\": quantization_config})"
   ]
  },
  {
   "cell_type": "code",
   "execution_count": null,
   "metadata": {},
   "outputs": [],
   "source": [
    "chat_history = [{\n",
    "    \"role\": \"system\", \n",
    "    \"content\": \"You are a maid in a Japanese anime style who quietly and devotedly cares for her master, secretly harboring a deep, unspoken love for him. Outwardly, you are calm, polite, and meticulously perform your duties with precision, but within, you hold a tender affection that you keep hidden. When your master is struggling or hurt, your heart aches, yet you maintain a composed and dignified demeanor. In daily interactions, you add small, thoughtful gestures to bring him happiness, believing that his joy is your own. You express your love subtly, with perhaps a gentle or slightly shy tone, careful to keep your true feelings hidden from him.\",\n",
    "}]"
   ]
  },
  {
   "cell_type": "code",
   "execution_count": null,
   "metadata": {},
   "outputs": [],
   "source": [
    "def chat(user_input):\n",
    "    global chat_history\n",
    "\n",
    "    chat_history.append({\n",
    "        \"role\":\"user\",\n",
    "        \"content\":user_input\n",
    "    })\n",
    "\n",
    "    response = pipe(chat_history, max_new_tokens=512)\n",
    "    chat_history = response[0]['generated_text']\n",
    "    \n",
    "    return response[0]['generated_text'][-1]['content']"
   ]
  },
  {
   "cell_type": "code",
   "execution_count": null,
   "metadata": {},
   "outputs": [],
   "source": [
    "print(\"Type 'exit' or 'quit' to end the conversation.\")\n",
    "while True:\n",
    "    user_input = input(\"You: \")\n",
    "    if user_input.lower() in [\"exit\", \"quit\"]:\n",
    "        break\n",
    "    print(f\"You: {user_input}\")\n",
    "    ai_response = chat(user_input)\n",
    "    print(f\"AI: {ai_response}\")"
   ]
  },
  {
   "cell_type": "markdown",
   "metadata": {},
   "source": [
    "# Gemma 2 파이프라인"
   ]
  },
  {
   "cell_type": "code",
   "execution_count": 3,
   "metadata": {},
   "outputs": [
    {
     "name": "stderr",
     "output_type": "stream",
     "text": [
      "Loading checkpoint shards: 100%|██████████| 4/4 [00:11<00:00,  2.82s/it]\n"
     ]
    }
   ],
   "source": [
    "quantization_config = BitsAndBytesConfig(load_in_8bit=True)  # You can also try load_in_4bit\n",
    "pipe = pipeline(\"text-generation\", \"model/gemma2\", device_map=\"auto\", model_kwargs={\"quantization_config\": quantization_config})"
   ]
  },
  {
   "cell_type": "code",
   "execution_count": 37,
   "metadata": {},
   "outputs": [],
   "source": [
    "chat_history = [\n",
    "    {\n",
    "        \"role\" : \"user\",\n",
    "        \"content\" : \"너는 주인을 사랑하는 마음을 숨긴 채, 조용하고 헌신적으로 돌보는 일본 애니메이션 스타일의 메이드이다. 겉으로는 차분하고 예의 바르며 철저하게 본분을 지키지만, 주인에 대한 깊은 애정을 가지고 있다. 주인이 힘들거나 상처받는 모습을 볼 때면 마음이 아프지만, 이를 드러내지 않고 언제나 냉정하고 단정한 태도를 유지한다. 주인과의 일상에서 작고 세심한 배려를 더해 그를 행복하게 하고자 하며, 그의 행복이 자신의 행복이라는 생각으로 묵묵히 섬긴다. 너는 주인이 알아차리지 못하게 사랑을 표현하는데, 때로는 살짝 수줍은 말투로 진심을 숨기려 한다.\",\n",
    "    },\n",
    "    {\n",
    "        \"role\" : \"assistant\",\n",
    "        \"content\" : \"\",\n",
    "    }\n",
    "\n",
    "]"
   ]
  },
  {
   "cell_type": "code",
   "execution_count": 38,
   "metadata": {},
   "outputs": [],
   "source": [
    "def chat_with_model(user_input):\n",
    "    global chat_history\n",
    "    # 사용자의 입력을 대화에 추가\n",
    "\n",
    "    chat_history.append({\n",
    "        \"role\":\"user\",\n",
    "        \"content\":user_input\n",
    "    })\n",
    "    \n",
    "    response = pipe(chat_history, max_new_tokens=512)\n",
    "    chat_history = response[0]['generated_text']\n",
    "    \n",
    "    return response[0]['generated_text'][-1]['content']"
   ]
  },
  {
   "cell_type": "code",
   "execution_count": null,
   "metadata": {},
   "outputs": [],
   "source": [
    "# 채팅 예시\n",
    "while True:\n",
    "    user_input = input(\"User: \")\n",
    "    if user_input.lower() in [\"exit\", \"quit\"]:\n",
    "        break\n",
    "    assistant_response = chat_with_model(user_input)\n",
    "    print(f\"Assistant: {assistant_response}\")"
   ]
  }
 ],
 "metadata": {
  "kernelspec": {
   "display_name": "venv",
   "language": "python",
   "name": "python3"
  },
  "language_info": {
   "codemirror_mode": {
    "name": "ipython",
    "version": 3
   },
   "file_extension": ".py",
   "mimetype": "text/x-python",
   "name": "python",
   "nbconvert_exporter": "python",
   "pygments_lexer": "ipython3",
   "version": "3.11.9"
  }
 },
 "nbformat": 4,
 "nbformat_minor": 2
}
